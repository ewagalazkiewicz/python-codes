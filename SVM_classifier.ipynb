{
 "cells": [
  {
   "cell_type": "code",
   "execution_count": 1,
   "id": "43ecf65e",
   "metadata": {},
   "outputs": [],
   "source": [
    "#train an SVM classifier on the MNIST dataset. Since SVM classifiers are binary classifiers, you will need to use one-versus-all to classify all 10 digits. You may want to tune the hyperparameters using small validation sets to speed up the process. What accuracy can you reach?"
   ]
  },
  {
   "cell_type": "code",
   "execution_count": 2,
   "id": "1d2ace15",
   "metadata": {},
   "outputs": [],
   "source": [
    "from sklearn.model_selection import train_test_split\n",
    "from sklearn.svm import SVC\n",
    "from sklearn.metrics import accuracy_score\n",
    "from sklearn.datasets import fetch_openml"
   ]
  },
  {
   "cell_type": "code",
   "execution_count": 3,
   "id": "1de0d6b3",
   "metadata": {},
   "outputs": [],
   "source": [
    "mnist = fetch_openml('mnist_784')\n",
    "X, y = mnist.data.astype('float64'), mnist.target.astype('int')"
   ]
  },
  {
   "cell_type": "code",
   "execution_count": 4,
   "id": "3ce44621",
   "metadata": {},
   "outputs": [],
   "source": [
    "X_train, X_test, y_train, y_test = train_test_split(X, y, test_size=0.2, random_state=42)"
   ]
  },
  {
   "cell_type": "code",
   "execution_count": 5,
   "id": "a38bbbc9",
   "metadata": {},
   "outputs": [],
   "source": [
    "svm_clf = SVC(kernel='rbf', decision_function_shape='ovr', random_state=42)"
   ]
  },
  {
   "cell_type": "code",
   "execution_count": 6,
   "id": "506f74ff",
   "metadata": {},
   "outputs": [
    {
     "data": {
      "text/plain": [
       "SVC(random_state=42)"
      ]
     },
     "execution_count": 6,
     "metadata": {},
     "output_type": "execute_result"
    }
   ],
   "source": [
    "svm_clf.fit(X_train, y_train)"
   ]
  },
  {
   "cell_type": "code",
   "execution_count": 7,
   "id": "2aa996bd",
   "metadata": {},
   "outputs": [],
   "source": [
    "y_pred = svm_clf.predict(X_test)"
   ]
  },
  {
   "cell_type": "code",
   "execution_count": 8,
   "id": "8c6110d7",
   "metadata": {},
   "outputs": [],
   "source": [
    "accuracy = accuracy_score(y_test, y_pred)"
   ]
  },
  {
   "cell_type": "code",
   "execution_count": 9,
   "id": "1a47b899",
   "metadata": {},
   "outputs": [
    {
     "name": "stdout",
     "output_type": "stream",
     "text": [
      "Accuracy on the test set: 97.64%\n"
     ]
    }
   ],
   "source": [
    "print(f'Accuracy on the test set: {accuracy:.2%}')"
   ]
  },
  {
   "cell_type": "code",
   "execution_count": 10,
   "id": "3f0bed47",
   "metadata": {},
   "outputs": [],
   "source": [
    "#lets do this on smaller datasets\n",
    "from sklearn.model_selection import RandomizedSearchCV\n",
    "from scipy.stats import reciprocal, uniform"
   ]
  },
  {
   "cell_type": "code",
   "execution_count": 13,
   "id": "9dba30d0",
   "metadata": {},
   "outputs": [],
   "source": [
    "from sklearn.preprocessing import StandardScaler\n"
   ]
  },
  {
   "cell_type": "code",
   "execution_count": 16,
   "id": "d791cde1",
   "metadata": {},
   "outputs": [],
   "source": [
    "import numpy as np"
   ]
  },
  {
   "cell_type": "code",
   "execution_count": 18,
   "id": "cc0d26d4",
   "metadata": {},
   "outputs": [],
   "source": [
    "scaler = StandardScaler()\n",
    "X_train_scaled = scaler.fit_transform(X_train.astype(np.float32))\n",
    "X_test_scaled = scaler.transform(X_test.astype(np.float32))"
   ]
  },
  {
   "cell_type": "code",
   "execution_count": 20,
   "id": "3c6dc5ca",
   "metadata": {},
   "outputs": [
    {
     "name": "stdout",
     "output_type": "stream",
     "text": [
      "Fitting 3 folds for each of 10 candidates, totalling 30 fits\n",
      "[CV] END ..C=2.5104985146439898, gamma=0.0014303399556714635; total time=   0.2s\n",
      "[CV] END ..C=2.5104985146439898, gamma=0.0014303399556714635; total time=   0.2s\n",
      "[CV] END ..C=2.5104985146439898, gamma=0.0014303399556714635; total time=   0.2s\n",
      "[CV] END ....C=6.256543883215198, gamma=0.002213670507863208; total time=   0.2s\n",
      "[CV] END ....C=6.256543883215198, gamma=0.002213670507863208; total time=   0.2s\n",
      "[CV] END ....C=6.256543883215198, gamma=0.002213670507863208; total time=   0.2s\n",
      "[CV] END ..C=2.4641506076406485, gamma=0.0016414345309586418; total time=   0.2s\n",
      "[CV] END ..C=2.4641506076406485, gamma=0.0016414345309586418; total time=   0.2s\n",
      "[CV] END ..C=2.4641506076406485, gamma=0.0016414345309586418; total time=   0.2s\n",
      "[CV] END ...C=10.032427814708422, gamma=0.022711648083653557; total time=   0.3s\n",
      "[CV] END ...C=10.032427814708422, gamma=0.022711648083653557; total time=   0.3s\n",
      "[CV] END ...C=10.032427814708422, gamma=0.022711648083653557; total time=   0.3s\n",
      "[CV] END ...C=1.436371150877276, gamma=0.0014268775427087339; total time=   0.2s\n",
      "[CV] END ...C=1.436371150877276, gamma=0.0014268775427087339; total time=   0.2s\n",
      "[CV] END ...C=1.436371150877276, gamma=0.0014268775427087339; total time=   0.2s\n",
      "[CV] END ...C=1.0706504753684367, gamma=0.004508873004537341; total time=   0.3s\n",
      "[CV] END ...C=1.0706504753684367, gamma=0.004508873004537341; total time=   0.2s\n",
      "[CV] END ...C=1.0706504753684367, gamma=0.004508873004537341; total time=   0.3s\n",
      "[CV] END ....C=5.658576046784989, gamma=0.025358542420019423; total time=   0.3s\n",
      "[CV] END ....C=5.658576046784989, gamma=0.025358542420019423; total time=   0.3s\n",
      "[CV] END ....C=5.658576046784989, gamma=0.025358542420019423; total time=   0.3s\n",
      "[CV] END ...C=4.554033927907261, gamma=0.0012148345645519132; total time=   0.2s\n",
      "[CV] END ...C=4.554033927907261, gamma=0.0012148345645519132; total time=   0.2s\n",
      "[CV] END ...C=4.554033927907261, gamma=0.0012148345645519132; total time=   0.2s\n",
      "[CV] END ....C=4.853992830747512, gamma=0.004319441347847569; total time=   0.2s\n",
      "[CV] END ....C=4.853992830747512, gamma=0.004319441347847569; total time=   0.3s\n",
      "[CV] END ....C=4.853992830747512, gamma=0.004319441347847569; total time=   0.3s\n",
      "[CV] END ....C=3.8741739968071522, gamma=0.02706563639556727; total time=   0.2s\n",
      "[CV] END ....C=3.8741739968071522, gamma=0.02706563639556727; total time=   0.3s\n",
      "[CV] END ....C=3.8741739968071522, gamma=0.02706563639556727; total time=   0.3s\n"
     ]
    },
    {
     "data": {
      "text/plain": [
       "RandomizedSearchCV(cv=3, estimator=SVC(random_state=42),\n",
       "                   param_distributions={'C': <scipy.stats._distn_infrastructure.rv_frozen object at 0x7fad3a7a5dc0>,\n",
       "                                        'gamma': <scipy.stats._distn_infrastructure.rv_frozen object at 0x7fad3a7b7070>},\n",
       "                   verbose=2)"
      ]
     },
     "execution_count": 20,
     "metadata": {},
     "output_type": "execute_result"
    }
   ],
   "source": [
    "param_distributions = {\"gamma\": reciprocal(0.001, 0.1), \"C\": uniform(1, 10)}\n",
    "rnd_search_cv = RandomizedSearchCV(svm_clf, param_distributions, n_iter=10, verbose=2, cv=3)\n",
    "rnd_search_cv.fit(X_train_scaled[:1000], y_train[:1000])"
   ]
  },
  {
   "cell_type": "code",
   "execution_count": 21,
   "id": "248bd2ba",
   "metadata": {},
   "outputs": [
    {
     "data": {
      "text/plain": [
       "SVC(C=4.554033927907261, gamma=0.0012148345645519132, random_state=42)"
      ]
     },
     "execution_count": 21,
     "metadata": {},
     "output_type": "execute_result"
    }
   ],
   "source": [
    "rnd_search_cv.best_estimator_"
   ]
  },
  {
   "cell_type": "code",
   "execution_count": 22,
   "id": "8a65d5af",
   "metadata": {},
   "outputs": [
    {
     "data": {
      "text/plain": [
       "0.887989786193379"
      ]
     },
     "execution_count": 22,
     "metadata": {},
     "output_type": "execute_result"
    }
   ],
   "source": [
    "rnd_search_cv.best_score_"
   ]
  },
  {
   "cell_type": "code",
   "execution_count": 23,
   "id": "9b26769e",
   "metadata": {},
   "outputs": [
    {
     "data": {
      "text/plain": [
       "SVC(C=4.554033927907261, gamma=0.0012148345645519132, random_state=42)"
      ]
     },
     "execution_count": 23,
     "metadata": {},
     "output_type": "execute_result"
    }
   ],
   "source": [
    "rnd_search_cv.best_estimator_.fit(X_train_scaled, y_train)"
   ]
  },
  {
   "cell_type": "code",
   "execution_count": 24,
   "id": "a5ec7afd",
   "metadata": {},
   "outputs": [
    {
     "data": {
      "text/plain": [
       "0.9968571428571429"
      ]
     },
     "execution_count": 24,
     "metadata": {},
     "output_type": "execute_result"
    }
   ],
   "source": [
    "y_pred = rnd_search_cv.best_estimator_.predict(X_train_scaled)\n",
    "accuracy_score(y_train, y_pred)"
   ]
  },
  {
   "cell_type": "code",
   "execution_count": null,
   "id": "24be8415",
   "metadata": {},
   "outputs": [],
   "source": []
  }
 ],
 "metadata": {
  "kernelspec": {
   "display_name": "Python 3",
   "language": "python",
   "name": "python3"
  },
  "language_info": {
   "codemirror_mode": {
    "name": "ipython",
    "version": 3
   },
   "file_extension": ".py",
   "mimetype": "text/x-python",
   "name": "python",
   "nbconvert_exporter": "python",
   "pygments_lexer": "ipython3",
   "version": "3.8.8"
  }
 },
 "nbformat": 4,
 "nbformat_minor": 5
}
