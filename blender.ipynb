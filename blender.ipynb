{
 "cells": [
  {
   "cell_type": "code",
   "execution_count": 2,
   "id": "660f4c8f",
   "metadata": {},
   "outputs": [],
   "source": [
    "from sklearn.datasets import fetch_openml\n",
    "mnist = fetch_openml('mnist_784')\n",
    "X, y = mnist.data.astype('float64'), mnist.target.astype('int')"
   ]
  },
  {
   "cell_type": "code",
   "execution_count": 4,
   "id": "72eca1e6",
   "metadata": {},
   "outputs": [],
   "source": [
    "from sklearn.model_selection import train_test_split\n",
    "X, y = mnist['data'], mnist['target']\n",
    "\n",
    "# Convert labels to integers\n",
    "y = y.astype(int)\n",
    "\n",
    "# Split the data into training, validation, and test sets\n",
    "# Use 50,000 instances for training, 10,000 for validation, and 10,000 for testing\n",
    "X_train, X_temp, y_train, y_temp = train_test_split(X, y, test_size=0.1, random_state=42)\n",
    "X_val, X_test, y_val, y_test = train_test_split(X_temp, y_temp, test_size=0.5, random_state=42)"
   ]
  },
  {
   "cell_type": "code",
   "execution_count": 8,
   "id": "1d1125c5",
   "metadata": {},
   "outputs": [
    {
     "name": "stdout",
     "output_type": "stream",
     "text": [
      "Random Forest Accuracy on Validation Set: 0.92\n",
      "Extra-Trees Classifier Accuracy on Validation Set: 0.93\n",
      "SVM Classifier Accuracy on Validation Set: 0.90\n"
     ]
    }
   ],
   "source": [
    "from sklearn.preprocessing import StandardScaler\n",
    "from sklearn.ensemble import RandomForestClassifier, ExtraTreesClassifier\n",
    "from sklearn.model_selection import cross_val_predict\n",
    "from sklearn.svm import SVC\n",
    "from sklearn.metrics import accuracy_score\n",
    "from sklearn.datasets import fetch_openml\n",
    "\n",
    "scaler = StandardScaler()\n",
    "X_train_scaled = scaler.fit_transform(X_train)\n",
    "X_val_scaled = scaler.transform(X_val)\n",
    "X_test_scaled = scaler.transform(X_test)\n",
    "\n",
    "# Train Random Forest classifier\n",
    "rf_clf = RandomForestClassifier(n_estimators=100, random_state=42)\n",
    "y_val_pred_rf = cross_val_predict(rf_clf, X_val_scaled, y_val, cv=3)\n",
    "accuracy_rf = accuracy_score(y_val, y_val_pred_rf)\n",
    "print(f\"Random Forest Accuracy on Validation Set: {accuracy_rf:.2f}\")\n",
    "\n",
    "# Train Extra-Trees classifier\n",
    "extra_trees_clf = ExtraTreesClassifier(n_estimators=100, random_state=42)\n",
    "y_val_pred_extra_trees = cross_val_predict(extra_trees_clf, X_val_scaled, y_val, cv=3)\n",
    "accuracy_extra_trees = accuracy_score(y_val, y_val_pred_extra_trees)\n",
    "print(f\"Extra-Trees Classifier Accuracy on Validation Set: {accuracy_extra_trees:.2f}\")\n",
    "\n",
    "# Train SVM classifier\n",
    "svm_clf = SVC(gamma='scale')\n",
    "y_val_pred_svm = cross_val_predict(svm_clf, X_val_scaled, y_val, cv=3)\n",
    "accuracy_svm = accuracy_score(y_val, y_val_pred_svm)\n",
    "print(f\"SVM Classifier Accuracy on Validation Set: {accuracy_svm:.2f}\")"
   ]
  },
  {
   "cell_type": "code",
   "execution_count": 9,
   "id": "2612ecc8",
   "metadata": {},
   "outputs": [
    {
     "name": "stdout",
     "output_type": "stream",
     "text": [
      "Voting Classifier Accuracy on Validation Set: 0.97\n",
      "Voting Classifier Accuracy on Test Set: 0.97\n"
     ]
    }
   ],
   "source": [
    "from sklearn.ensemble import RandomForestClassifier, ExtraTreesClassifier, VotingClassifier\n",
    "from sklearn.svm import SVC\n",
    "from sklearn.metrics import accuracy_score\n",
    "from sklearn.model_selection import cross_val_predict\n",
    "from sklearn.preprocessing import StandardScaler\n",
    "from sklearn.datasets import fetch_openml\n",
    "\n",
    "# Train individual classifiers\n",
    "rf_clf = RandomForestClassifier(n_estimators=100, random_state=42)\n",
    "extra_trees_clf = ExtraTreesClassifier(n_estimators=100, random_state=42)\n",
    "svm_clf = SVC(gamma='scale')\n",
    "\n",
    "# Create a Voting Classifier\n",
    "voting_clf = VotingClassifier(\n",
    "    estimators=[('rf', rf_clf), ('extra_trees', extra_trees_clf), ('svm', svm_clf)],\n",
    "    voting='hard'  # Use 'soft' for soft voting\n",
    ")\n",
    "\n",
    "# Train the Voting Classifier\n",
    "voting_clf.fit(X_train_scaled, y_train)\n",
    "\n",
    "# Evaluate on the validation set\n",
    "y_val_pred_voting = voting_clf.predict(X_val_scaled)\n",
    "accuracy_voting = accuracy_score(y_val, y_val_pred_voting)\n",
    "print(f\"Voting Classifier Accuracy on Validation Set: {accuracy_voting:.2f}\")\n",
    "\n",
    "# Evaluate on the test set\n",
    "y_test_pred_voting = voting_clf.predict(X_test_scaled)\n",
    "accuracy_test_voting = accuracy_score(y_test, y_test_pred_voting)\n",
    "print(f\"Voting Classifier Accuracy on Test Set: {accuracy_test_voting:.2f}\")\n",
    "\n"
   ]
  },
  {
   "cell_type": "code",
   "execution_count": 12,
   "id": "b0ecd02f",
   "metadata": {
    "scrolled": true
   },
   "outputs": [
    {
     "name": "stdout",
     "output_type": "stream",
     "text": [
      "Shape of the new training set: (3500, 787)\n"
     ]
    }
   ],
   "source": [
    "import numpy as np\n",
    "_val_pred_rf = cross_val_predict(rf_clf, X_val_scaled, y_val, cv=3)\n",
    "y_val_pred_extra_trees = cross_val_predict(extra_trees_clf, X_val_scaled, y_val, cv=3)\n",
    "y_val_pred_svm = cross_val_predict(svm_clf, X_val_scaled, y_val, cv=3)\n",
    "\n",
    "# Create a new training set with predictions\n",
    "X_train_with_preds = np.c_[X_train_scaled[:len(y_val_pred_rf)], y_val_pred_rf, y_val_pred_extra_trees, y_val_pred_svm]\n",
    "\n",
    "# Display the shape of the new training set\n",
    "print(f\"Shape of the new training set: {X_train_with_preds.shape}\")"
   ]
  },
  {
   "cell_type": "code",
   "execution_count": 16,
   "id": "0b41489f",
   "metadata": {},
   "outputs": [
    {
     "ename": "ValueError",
     "evalue": "all the input array dimensions for the concatenation axis must match exactly, but along dimension 0, the array at index 0 has size 63000 and the array at index 1 has size 3500",
     "output_type": "error",
     "traceback": [
      "\u001b[0;31m---------------------------------------------------------------------------\u001b[0m",
      "\u001b[0;31mValueError\u001b[0m                                Traceback (most recent call last)",
      "\u001b[0;32m<ipython-input-16-af105d74aec2>\u001b[0m in \u001b[0;36m<module>\u001b[0;34m\u001b[0m\n\u001b[1;32m     13\u001b[0m \u001b[0;34m\u001b[0m\u001b[0m\n\u001b[1;32m     14\u001b[0m \u001b[0;31m# Create a new training set with predictions from individual classifiers\u001b[0m\u001b[0;34m\u001b[0m\u001b[0;34m\u001b[0m\u001b[0;34m\u001b[0m\u001b[0m\n\u001b[0;32m---> 15\u001b[0;31m \u001b[0mX_train_with_preds\u001b[0m \u001b[0;34m=\u001b[0m \u001b[0mnp\u001b[0m\u001b[0;34m.\u001b[0m\u001b[0mc_\u001b[0m\u001b[0;34m[\u001b[0m\u001b[0mX_train_scaled\u001b[0m\u001b[0;34m,\u001b[0m \u001b[0mrf_preds\u001b[0m\u001b[0;34m,\u001b[0m \u001b[0mextra_trees_preds\u001b[0m\u001b[0;34m,\u001b[0m \u001b[0msvm_preds\u001b[0m\u001b[0;34m]\u001b[0m\u001b[0;34m\u001b[0m\u001b[0;34m\u001b[0m\u001b[0m\n\u001b[0m\u001b[1;32m     16\u001b[0m \u001b[0;34m\u001b[0m\u001b[0m\n\u001b[1;32m     17\u001b[0m \u001b[0;31m# Train the ensemble classifier (RandomForestClassifier) on the new training set\u001b[0m\u001b[0;34m\u001b[0m\u001b[0;34m\u001b[0m\u001b[0;34m\u001b[0m\u001b[0m\n",
      "\u001b[0;32m/Applications/anaconda3/lib/python3.8/site-packages/numpy/lib/index_tricks.py\u001b[0m in \u001b[0;36m__getitem__\u001b[0;34m(self, key)\u001b[0m\n\u001b[1;32m    405\u001b[0m                 \u001b[0mobjs\u001b[0m\u001b[0;34m[\u001b[0m\u001b[0mk\u001b[0m\u001b[0;34m]\u001b[0m \u001b[0;34m=\u001b[0m \u001b[0mobjs\u001b[0m\u001b[0;34m[\u001b[0m\u001b[0mk\u001b[0m\u001b[0;34m]\u001b[0m\u001b[0;34m.\u001b[0m\u001b[0mastype\u001b[0m\u001b[0;34m(\u001b[0m\u001b[0mfinal_dtype\u001b[0m\u001b[0;34m)\u001b[0m\u001b[0;34m\u001b[0m\u001b[0;34m\u001b[0m\u001b[0m\n\u001b[1;32m    406\u001b[0m \u001b[0;34m\u001b[0m\u001b[0m\n\u001b[0;32m--> 407\u001b[0;31m         \u001b[0mres\u001b[0m \u001b[0;34m=\u001b[0m \u001b[0mself\u001b[0m\u001b[0;34m.\u001b[0m\u001b[0mconcatenate\u001b[0m\u001b[0;34m(\u001b[0m\u001b[0mtuple\u001b[0m\u001b[0;34m(\u001b[0m\u001b[0mobjs\u001b[0m\u001b[0;34m)\u001b[0m\u001b[0;34m,\u001b[0m \u001b[0maxis\u001b[0m\u001b[0;34m=\u001b[0m\u001b[0maxis\u001b[0m\u001b[0;34m)\u001b[0m\u001b[0;34m\u001b[0m\u001b[0;34m\u001b[0m\u001b[0m\n\u001b[0m\u001b[1;32m    408\u001b[0m \u001b[0;34m\u001b[0m\u001b[0m\n\u001b[1;32m    409\u001b[0m         \u001b[0;32mif\u001b[0m \u001b[0mmatrix\u001b[0m\u001b[0;34m:\u001b[0m\u001b[0;34m\u001b[0m\u001b[0;34m\u001b[0m\u001b[0m\n",
      "\u001b[0;32m<__array_function__ internals>\u001b[0m in \u001b[0;36mconcatenate\u001b[0;34m(*args, **kwargs)\u001b[0m\n",
      "\u001b[0;31mValueError\u001b[0m: all the input array dimensions for the concatenation axis must match exactly, but along dimension 0, the array at index 0 has size 63000 and the array at index 1 has size 3500"
     ]
    }
   ],
   "source": [
    "from sklearn.ensemble import RandomForestClassifier\n",
    "from sklearn.metrics import accuracy_score\n",
    "\n",
    "# Fit individual classifiers\n",
    "rf_clf.fit(X_train, y_train)\n",
    "extra_trees_clf.fit(X_train, y_train)\n",
    "svm_clf.fit(X_train_scaled, y_train)\n",
    "\n",
    "# Get predictions from individual classifiers on the validation set\n",
    "rf_preds = rf_clf.predict(X_val)\n",
    "extra_trees_preds = extra_trees_clf.predict(X_val)\n",
    "svm_preds = svm_clf.predict(X_val_scaled)\n",
    "\n",
    "# Create a new training set with predictions from individual classifiers\n",
    "X_train_with_preds = np.c_[X_train_scaled, rf_preds, extra_trees_preds, svm_preds]\n",
    "\n",
    "# Train the ensemble classifier (RandomForestClassifier) on the new training set\n",
    "ensemble_clf = RandomForestClassifier(n_estimators=100, random_state=42)\n",
    "ensemble_clf.fit(X_train_with_preds, y_val)\n",
    "\n",
    "# Make predictions on the test set\n",
    "X_test_preds = np.c_[X_test_scaled, rf_clf.predict(X_test_scaled), extra_trees_clf.predict(X_test_scaled), svm_clf.predict(X_test_scaled)]\n",
    "y_test_pred_ensemble = ensemble_clf.predict(X_test_preds)\n",
    "\n",
    "# Evaluate the accuracy of the ensemble classifier on the test set\n",
    "accuracy_ensemble = accuracy_score(y_test, y_test_pred_ensemble)\n",
    "print(f\"Accuracy of the ensemble classifier on the test set: {accuracy_ensemble}\")\n"
   ]
  },
  {
   "cell_type": "code",
   "execution_count": null,
   "id": "2e1d4361",
   "metadata": {},
   "outputs": [],
   "source": []
  }
 ],
 "metadata": {
  "kernelspec": {
   "display_name": "Python 3",
   "language": "python",
   "name": "python3"
  },
  "language_info": {
   "codemirror_mode": {
    "name": "ipython",
    "version": 3
   },
   "file_extension": ".py",
   "mimetype": "text/x-python",
   "name": "python",
   "nbconvert_exporter": "python",
   "pygments_lexer": "ipython3",
   "version": "3.8.8"
  }
 },
 "nbformat": 4,
 "nbformat_minor": 5
}
